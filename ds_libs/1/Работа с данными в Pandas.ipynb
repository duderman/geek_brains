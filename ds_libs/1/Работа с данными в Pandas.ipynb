{
  "cells":[
    {
      "cell_type":"markdown",
      "source":[
        "### Задание 1\n",
        "\n",
        "Импортируйте библиотеку Pandas и дайте ей псевдоним pd. Создайте датафрейм authors со столбцами author_id и author_name, в которых соответственно содержатся данные: [1, 2, 3] и ['Тургенев', 'Чехов', 'Островский']."
      ],
      "metadata":{
        
      }
    },
    {
      "cell_type":"code",
      "source":[
        "import pandas as pd"
      ],
      "execution_count":0,
      "outputs":[
        
      ],
      "metadata":{
        
      }
    },
    {
      "cell_type":"code",
      "source":[
        "authors_data = {\n",
        "        \"author_id\": [1,2,3],\n",
        "        \"author_name\": ['Тургенев', 'Чехов', 'Островский']\n",
        "}\n",
        "authors = pd.DataFrame(authors_data)\n",
        "authors"
      ],
      "execution_count":0,
      "outputs":[
        {
          "data":{
            "text\/html":[
              "<div>\n",
              "<style scoped>\n",
              "    .dataframe tbody tr th:only-of-type {\n",
              "        vertical-align: middle;\n",
              "    }\n",
              "\n",
              "    .dataframe tbody tr th {\n",
              "        vertical-align: top;\n",
              "    }\n",
              "\n",
              "    .dataframe thead th {\n",
              "        text-align: right;\n",
              "    }\n",
              "<\/style>\n",
              "<table border=\"1\" class=\"dataframe\">\n",
              "  <thead>\n",
              "    <tr style=\"text-align: right;\">\n",
              "      <th><\/th>\n",
              "      <th>author_id<\/th>\n",
              "      <th>author_name<\/th>\n",
              "    <\/tr>\n",
              "  <\/thead>\n",
              "  <tbody>\n",
              "    <tr>\n",
              "      <th>0<\/th>\n",
              "      <td>1<\/td>\n",
              "      <td>Тургенев<\/td>\n",
              "    <\/tr>\n",
              "    <tr>\n",
              "      <th>1<\/th>\n",
              "      <td>2<\/td>\n",
              "      <td>Чехов<\/td>\n",
              "    <\/tr>\n",
              "    <tr>\n",
              "      <th>2<\/th>\n",
              "      <td>3<\/td>\n",
              "      <td>Островский<\/td>\n",
              "    <\/tr>\n",
              "  <\/tbody>\n",
              "<\/table>\n",
              "<\/div>"
            ]
          },
          "metadata":{
            
          },
          "output_type":"display_data"
        }
      ],
      "metadata":{
        
      }
    },
    {
      "cell_type":"markdown",
      "source":[
        "Затем создайте датафрейм book cо столбцами author_id, book_title и price, в которых соответственно содержатся данные:  \n",
        "\n",
        "`[1, 1, 1, 2, 2, 3, 3]`,\n",
        "\n",
        "`['Отцы и дети', 'Рудин', 'Дворянское гнездо', 'Толстый и тонкий', 'Дама с собачкой', 'Гроза', 'Таланты и поклонники']`,\n",
        "\n",
        "`[450, 300, 350, 500, 450, 370, 290]`"
      ],
      "metadata":{
        
      }
    },
    {
      "cell_type":"code",
      "source":[
        "books_data = {\n",
        "              \"author_id\": [1, 1, 1, 2, 2, 3, 3],\n",
        "              \"book_title\": ['Отцы и дети', 'Рудин', 'Дворянское гнездо', 'Толстый и тонкий', 'Дама с собачкой', 'Гроза', 'Таланты и поклонники'],\n",
        "              \"price\": [450, 300, 350, 500, 450, 370, 290]\n",
        "}\n",
        "books = pd.DataFrame(books_data)\n",
        "books"
      ],
      "execution_count":0,
      "outputs":[
        {
          "data":{
            "text\/html":[
              "<div>\n",
              "<style scoped>\n",
              "    .dataframe tbody tr th:only-of-type {\n",
              "        vertical-align: middle;\n",
              "    }\n",
              "\n",
              "    .dataframe tbody tr th {\n",
              "        vertical-align: top;\n",
              "    }\n",
              "\n",
              "    .dataframe thead th {\n",
              "        text-align: right;\n",
              "    }\n",
              "<\/style>\n",
              "<table border=\"1\" class=\"dataframe\">\n",
              "  <thead>\n",
              "    <tr style=\"text-align: right;\">\n",
              "      <th><\/th>\n",
              "      <th>author_id<\/th>\n",
              "      <th>book_title<\/th>\n",
              "      <th>price<\/th>\n",
              "    <\/tr>\n",
              "  <\/thead>\n",
              "  <tbody>\n",
              "    <tr>\n",
              "      <th>0<\/th>\n",
              "      <td>1<\/td>\n",
              "      <td>Отцы и дети<\/td>\n",
              "      <td>450<\/td>\n",
              "    <\/tr>\n",
              "    <tr>\n",
              "      <th>1<\/th>\n",
              "      <td>1<\/td>\n",
              "      <td>Рудин<\/td>\n",
              "      <td>300<\/td>\n",
              "    <\/tr>\n",
              "    <tr>\n",
              "      <th>2<\/th>\n",
              "      <td>1<\/td>\n",
              "      <td>Дворянское гнездо<\/td>\n",
              "      <td>350<\/td>\n",
              "    <\/tr>\n",
              "    <tr>\n",
              "      <th>3<\/th>\n",
              "      <td>2<\/td>\n",
              "      <td>Толстый и тонкий<\/td>\n",
              "      <td>500<\/td>\n",
              "    <\/tr>\n",
              "    <tr>\n",
              "      <th>4<\/th>\n",
              "      <td>2<\/td>\n",
              "      <td>Дама с собачкой<\/td>\n",
              "      <td>450<\/td>\n",
              "    <\/tr>\n",
              "    <tr>\n",
              "      <th>5<\/th>\n",
              "      <td>3<\/td>\n",
              "      <td>Гроза<\/td>\n",
              "      <td>370<\/td>\n",
              "    <\/tr>\n",
              "    <tr>\n",
              "      <th>6<\/th>\n",
              "      <td>3<\/td>\n",
              "      <td>Таланты и поклонники<\/td>\n",
              "      <td>290<\/td>\n",
              "    <\/tr>\n",
              "  <\/tbody>\n",
              "<\/table>\n",
              "<\/div>"
            ]
          },
          "metadata":{
            
          },
          "output_type":"display_data"
        }
      ],
      "metadata":{
        
      }
    },
    {
      "cell_type":"markdown",
      "source":[
        "### Задание 2\n",
        "Получите датафрейм authors_price, соединив датафреймы authors и books по полю author_id."
      ],
      "metadata":{
        
      }
    },
    {
      "cell_type":"code",
      "source":[
        "authors_price = pd.merge(authors, books, on='author_id')\n",
        "authors_price"
      ],
      "execution_count":0,
      "outputs":[
        {
          "data":{
            "text\/html":[
              "<div>\n",
              "<style scoped>\n",
              "    .dataframe tbody tr th:only-of-type {\n",
              "        vertical-align: middle;\n",
              "    }\n",
              "\n",
              "    .dataframe tbody tr th {\n",
              "        vertical-align: top;\n",
              "    }\n",
              "\n",
              "    .dataframe thead th {\n",
              "        text-align: right;\n",
              "    }\n",
              "<\/style>\n",
              "<table border=\"1\" class=\"dataframe\">\n",
              "  <thead>\n",
              "    <tr style=\"text-align: right;\">\n",
              "      <th><\/th>\n",
              "      <th>author_id<\/th>\n",
              "      <th>author_name<\/th>\n",
              "      <th>book_title<\/th>\n",
              "      <th>price<\/th>\n",
              "    <\/tr>\n",
              "  <\/thead>\n",
              "  <tbody>\n",
              "    <tr>\n",
              "      <th>0<\/th>\n",
              "      <td>1<\/td>\n",
              "      <td>Тургенев<\/td>\n",
              "      <td>Отцы и дети<\/td>\n",
              "      <td>450<\/td>\n",
              "    <\/tr>\n",
              "    <tr>\n",
              "      <th>1<\/th>\n",
              "      <td>1<\/td>\n",
              "      <td>Тургенев<\/td>\n",
              "      <td>Рудин<\/td>\n",
              "      <td>300<\/td>\n",
              "    <\/tr>\n",
              "    <tr>\n",
              "      <th>2<\/th>\n",
              "      <td>1<\/td>\n",
              "      <td>Тургенев<\/td>\n",
              "      <td>Дворянское гнездо<\/td>\n",
              "      <td>350<\/td>\n",
              "    <\/tr>\n",
              "    <tr>\n",
              "      <th>3<\/th>\n",
              "      <td>2<\/td>\n",
              "      <td>Чехов<\/td>\n",
              "      <td>Толстый и тонкий<\/td>\n",
              "      <td>500<\/td>\n",
              "    <\/tr>\n",
              "    <tr>\n",
              "      <th>4<\/th>\n",
              "      <td>2<\/td>\n",
              "      <td>Чехов<\/td>\n",
              "      <td>Дама с собачкой<\/td>\n",
              "      <td>450<\/td>\n",
              "    <\/tr>\n",
              "    <tr>\n",
              "      <th>5<\/th>\n",
              "      <td>3<\/td>\n",
              "      <td>Островский<\/td>\n",
              "      <td>Гроза<\/td>\n",
              "      <td>370<\/td>\n",
              "    <\/tr>\n",
              "    <tr>\n",
              "      <th>6<\/th>\n",
              "      <td>3<\/td>\n",
              "      <td>Островский<\/td>\n",
              "      <td>Таланты и поклонники<\/td>\n",
              "      <td>290<\/td>\n",
              "    <\/tr>\n",
              "  <\/tbody>\n",
              "<\/table>\n",
              "<\/div>"
            ]
          },
          "metadata":{
            
          },
          "output_type":"display_data"
        }
      ],
      "metadata":{
        
      }
    },
    {
      "cell_type":"markdown",
      "source":[
        "### Задание 3\n",
        "Создайте датафрейм top5, в котором содержатся строки из authors_price с пятью самыми дорогими книгами."
      ],
      "metadata":{
        
      }
    },
    {
      "cell_type":"code",
      "source":[
        "top5 = authors_price.sort_values(by='price',ascending=False)[:5]\n",
        "top5"
      ],
      "execution_count":0,
      "outputs":[
        {
          "data":{
            "text\/html":[
              "<div>\n",
              "<style scoped>\n",
              "    .dataframe tbody tr th:only-of-type {\n",
              "        vertical-align: middle;\n",
              "    }\n",
              "\n",
              "    .dataframe tbody tr th {\n",
              "        vertical-align: top;\n",
              "    }\n",
              "\n",
              "    .dataframe thead th {\n",
              "        text-align: right;\n",
              "    }\n",
              "<\/style>\n",
              "<table border=\"1\" class=\"dataframe\">\n",
              "  <thead>\n",
              "    <tr style=\"text-align: right;\">\n",
              "      <th><\/th>\n",
              "      <th>author_id<\/th>\n",
              "      <th>author_name<\/th>\n",
              "      <th>book_title<\/th>\n",
              "      <th>price<\/th>\n",
              "    <\/tr>\n",
              "  <\/thead>\n",
              "  <tbody>\n",
              "    <tr>\n",
              "      <th>3<\/th>\n",
              "      <td>2<\/td>\n",
              "      <td>Чехов<\/td>\n",
              "      <td>Толстый и тонкий<\/td>\n",
              "      <td>500<\/td>\n",
              "    <\/tr>\n",
              "    <tr>\n",
              "      <th>0<\/th>\n",
              "      <td>1<\/td>\n",
              "      <td>Тургенев<\/td>\n",
              "      <td>Отцы и дети<\/td>\n",
              "      <td>450<\/td>\n",
              "    <\/tr>\n",
              "    <tr>\n",
              "      <th>4<\/th>\n",
              "      <td>2<\/td>\n",
              "      <td>Чехов<\/td>\n",
              "      <td>Дама с собачкой<\/td>\n",
              "      <td>450<\/td>\n",
              "    <\/tr>\n",
              "    <tr>\n",
              "      <th>5<\/th>\n",
              "      <td>3<\/td>\n",
              "      <td>Островский<\/td>\n",
              "      <td>Гроза<\/td>\n",
              "      <td>370<\/td>\n",
              "    <\/tr>\n",
              "    <tr>\n",
              "      <th>2<\/th>\n",
              "      <td>1<\/td>\n",
              "      <td>Тургенев<\/td>\n",
              "      <td>Дворянское гнездо<\/td>\n",
              "      <td>350<\/td>\n",
              "    <\/tr>\n",
              "  <\/tbody>\n",
              "<\/table>\n",
              "<\/div>"
            ]
          },
          "metadata":{
            
          },
          "output_type":"display_data"
        }
      ],
      "metadata":{
        
      }
    },
    {
      "cell_type":"markdown",
      "source":[
        "### Задание 4\n",
        "Создайте датафрейм authors_stat на основе информации из authors_price. В датафрейме authors_stat должны быть четыре столбца:\n",
        "author_name, min_price, max_price и mean_price,\n",
        "в которых должны содержаться соответственно имя автора, минимальная, максимальная и средняя цена на книги этого автора."
      ],
      "metadata":{
        
      }
    },
    {
      "cell_type":"code",
      "source":[
        "authors_stat = authors_price.groupby('author_name').agg(min_price=('price', 'min'), max_price=('price', 'max'), mean_price=('price', 'mean'))\n",
        "authors_stat\n"
      ],
      "execution_count":0,
      "outputs":[
        {
          "data":{
            "text\/html":[
              "<div>\n",
              "<style scoped>\n",
              "    .dataframe tbody tr th:only-of-type {\n",
              "        vertical-align: middle;\n",
              "    }\n",
              "\n",
              "    .dataframe tbody tr th {\n",
              "        vertical-align: top;\n",
              "    }\n",
              "\n",
              "    .dataframe thead th {\n",
              "        text-align: right;\n",
              "    }\n",
              "<\/style>\n",
              "<table border=\"1\" class=\"dataframe\">\n",
              "  <thead>\n",
              "    <tr style=\"text-align: right;\">\n",
              "      <th><\/th>\n",
              "      <th>min_price<\/th>\n",
              "      <th>max_price<\/th>\n",
              "      <th>mean_price<\/th>\n",
              "    <\/tr>\n",
              "    <tr>\n",
              "      <th>author_name<\/th>\n",
              "      <th><\/th>\n",
              "      <th><\/th>\n",
              "      <th><\/th>\n",
              "    <\/tr>\n",
              "  <\/thead>\n",
              "  <tbody>\n",
              "    <tr>\n",
              "      <th>Островский<\/th>\n",
              "      <td>290<\/td>\n",
              "      <td>370<\/td>\n",
              "      <td>330.000000<\/td>\n",
              "    <\/tr>\n",
              "    <tr>\n",
              "      <th>Тургенев<\/th>\n",
              "      <td>300<\/td>\n",
              "      <td>450<\/td>\n",
              "      <td>366.666667<\/td>\n",
              "    <\/tr>\n",
              "    <tr>\n",
              "      <th>Чехов<\/th>\n",
              "      <td>450<\/td>\n",
              "      <td>500<\/td>\n",
              "      <td>475.000000<\/td>\n",
              "    <\/tr>\n",
              "  <\/tbody>\n",
              "<\/table>\n",
              "<\/div>"
            ]
          },
          "metadata":{
            
          },
          "output_type":"display_data"
        }
      ],
      "metadata":{
        
      }
    },
    {
      "cell_type":"markdown",
      "source":[
        "### Задание 5**\n",
        "Создайте новый столбец в датафрейме authors_price под названием cover, в нем будут располагаться данные о том, какая обложка у данной книги - твердая или мягкая. В этот столбец поместите данные из следующего списка:\n",
        "`['твердая', 'мягкая', 'мягкая', 'твердая', 'твердая', 'мягкая', 'мягкая']`."
      ],
      "metadata":{
        
      }
    },
    {
      "cell_type":"code",
      "source":[
        "authors_price['cover'] = ['твердая', 'мягкая', 'мягкая', 'твердая', 'твердая', 'мягкая', 'мягкая']\n",
        "authors_price"
      ],
      "execution_count":0,
      "outputs":[
        {
          "data":{
            "text\/html":[
              "<div>\n",
              "<style scoped>\n",
              "    .dataframe tbody tr th:only-of-type {\n",
              "        vertical-align: middle;\n",
              "    }\n",
              "\n",
              "    .dataframe tbody tr th {\n",
              "        vertical-align: top;\n",
              "    }\n",
              "\n",
              "    .dataframe thead th {\n",
              "        text-align: right;\n",
              "    }\n",
              "<\/style>\n",
              "<table border=\"1\" class=\"dataframe\">\n",
              "  <thead>\n",
              "    <tr style=\"text-align: right;\">\n",
              "      <th><\/th>\n",
              "      <th>author_id<\/th>\n",
              "      <th>author_name<\/th>\n",
              "      <th>book_title<\/th>\n",
              "      <th>price<\/th>\n",
              "      <th>cover<\/th>\n",
              "    <\/tr>\n",
              "  <\/thead>\n",
              "  <tbody>\n",
              "    <tr>\n",
              "      <th>0<\/th>\n",
              "      <td>1<\/td>\n",
              "      <td>Тургенев<\/td>\n",
              "      <td>Отцы и дети<\/td>\n",
              "      <td>450<\/td>\n",
              "      <td>твердая<\/td>\n",
              "    <\/tr>\n",
              "    <tr>\n",
              "      <th>1<\/th>\n",
              "      <td>1<\/td>\n",
              "      <td>Тургенев<\/td>\n",
              "      <td>Рудин<\/td>\n",
              "      <td>300<\/td>\n",
              "      <td>мягкая<\/td>\n",
              "    <\/tr>\n",
              "    <tr>\n",
              "      <th>2<\/th>\n",
              "      <td>1<\/td>\n",
              "      <td>Тургенев<\/td>\n",
              "      <td>Дворянское гнездо<\/td>\n",
              "      <td>350<\/td>\n",
              "      <td>мягкая<\/td>\n",
              "    <\/tr>\n",
              "    <tr>\n",
              "      <th>3<\/th>\n",
              "      <td>2<\/td>\n",
              "      <td>Чехов<\/td>\n",
              "      <td>Толстый и тонкий<\/td>\n",
              "      <td>500<\/td>\n",
              "      <td>твердая<\/td>\n",
              "    <\/tr>\n",
              "    <tr>\n",
              "      <th>4<\/th>\n",
              "      <td>2<\/td>\n",
              "      <td>Чехов<\/td>\n",
              "      <td>Дама с собачкой<\/td>\n",
              "      <td>450<\/td>\n",
              "      <td>твердая<\/td>\n",
              "    <\/tr>\n",
              "    <tr>\n",
              "      <th>5<\/th>\n",
              "      <td>3<\/td>\n",
              "      <td>Островский<\/td>\n",
              "      <td>Гроза<\/td>\n",
              "      <td>370<\/td>\n",
              "      <td>мягкая<\/td>\n",
              "    <\/tr>\n",
              "    <tr>\n",
              "      <th>6<\/th>\n",
              "      <td>3<\/td>\n",
              "      <td>Островский<\/td>\n",
              "      <td>Таланты и поклонники<\/td>\n",
              "      <td>290<\/td>\n",
              "      <td>мягкая<\/td>\n",
              "    <\/tr>\n",
              "  <\/tbody>\n",
              "<\/table>\n",
              "<\/div>"
            ]
          },
          "metadata":{
            
          },
          "output_type":"display_data"
        }
      ],
      "metadata":{
        
      }
    },
    {
      "cell_type":"markdown",
      "source":[
        "Для каждого автора посчитайте суммарную стоимость книг в твердой и мягкой обложке. Используйте для этого функцию pd.pivot_table. При этом столбцы должны называться \"твердая\" и \"мягкая\", а индексами должны быть фамилии авторов. Пропущенные значения стоимостей заполните нулями, при необходимости загрузите библиотеку Numpy."
      ],
      "metadata":{
        
      }
    },
    {
      "cell_type":"code",
      "source":[
        "book_info = authors_price.pivot_table(values='price', index=['author_name'], columns=['cover'], aggfunc='sum', fill_value=0)\n",
        "book_info"
      ],
      "execution_count":0,
      "outputs":[
        {
          "data":{
            "text\/html":[
              "<div>\n",
              "<style scoped>\n",
              "    .dataframe tbody tr th:only-of-type {\n",
              "        vertical-align: middle;\n",
              "    }\n",
              "\n",
              "    .dataframe tbody tr th {\n",
              "        vertical-align: top;\n",
              "    }\n",
              "\n",
              "    .dataframe thead th {\n",
              "        text-align: right;\n",
              "    }\n",
              "<\/style>\n",
              "<table border=\"1\" class=\"dataframe\">\n",
              "  <thead>\n",
              "    <tr style=\"text-align: right;\">\n",
              "      <th>cover<\/th>\n",
              "      <th>мягкая<\/th>\n",
              "      <th>твердая<\/th>\n",
              "    <\/tr>\n",
              "    <tr>\n",
              "      <th>author_name<\/th>\n",
              "      <th><\/th>\n",
              "      <th><\/th>\n",
              "    <\/tr>\n",
              "  <\/thead>\n",
              "  <tbody>\n",
              "    <tr>\n",
              "      <th>Островский<\/th>\n",
              "      <td>660<\/td>\n",
              "      <td>0<\/td>\n",
              "    <\/tr>\n",
              "    <tr>\n",
              "      <th>Тургенев<\/th>\n",
              "      <td>650<\/td>\n",
              "      <td>450<\/td>\n",
              "    <\/tr>\n",
              "    <tr>\n",
              "      <th>Чехов<\/th>\n",
              "      <td>0<\/td>\n",
              "      <td>950<\/td>\n",
              "    <\/tr>\n",
              "  <\/tbody>\n",
              "<\/table>\n",
              "<\/div>"
            ]
          },
          "metadata":{
            
          },
          "output_type":"display_data"
        }
      ],
      "metadata":{
        
      }
    },
    {
      "cell_type":"markdown",
      "source":[
        "Назовите полученный датасет book_info и сохраните его в формат pickle под названием \"book_info.pkl\". Затем загрузите из этого файла датафрейм и назовите его book_info2. Удостоверьтесь, что датафреймы book_info и book_info2 идентичны."
      ],
      "metadata":{
        
      }
    },
    {
      "cell_type":"code",
      "source":[
        "book_info.to_pickle('book_info.pkl')\n",
        "book_info2 = pd.read_pickle('book_info.pkl')\n",
        "book_info2"
      ],
      "execution_count":0,
      "outputs":[
        {
          "data":{
            "text\/html":[
              "<div>\n",
              "<style scoped>\n",
              "    .dataframe tbody tr th:only-of-type {\n",
              "        vertical-align: middle;\n",
              "    }\n",
              "\n",
              "    .dataframe tbody tr th {\n",
              "        vertical-align: top;\n",
              "    }\n",
              "\n",
              "    .dataframe thead th {\n",
              "        text-align: right;\n",
              "    }\n",
              "<\/style>\n",
              "<table border=\"1\" class=\"dataframe\">\n",
              "  <thead>\n",
              "    <tr style=\"text-align: right;\">\n",
              "      <th>cover<\/th>\n",
              "      <th>мягкая<\/th>\n",
              "      <th>твердая<\/th>\n",
              "    <\/tr>\n",
              "    <tr>\n",
              "      <th>author_name<\/th>\n",
              "      <th><\/th>\n",
              "      <th><\/th>\n",
              "    <\/tr>\n",
              "  <\/thead>\n",
              "  <tbody>\n",
              "    <tr>\n",
              "      <th>Островский<\/th>\n",
              "      <td>660<\/td>\n",
              "      <td>0<\/td>\n",
              "    <\/tr>\n",
              "    <tr>\n",
              "      <th>Тургенев<\/th>\n",
              "      <td>650<\/td>\n",
              "      <td>450<\/td>\n",
              "    <\/tr>\n",
              "    <tr>\n",
              "      <th>Чехов<\/th>\n",
              "      <td>0<\/td>\n",
              "      <td>950<\/td>\n",
              "    <\/tr>\n",
              "  <\/tbody>\n",
              "<\/table>\n",
              "<\/div>"
            ]
          },
          "metadata":{
            
          },
          "output_type":"display_data"
        }
      ],
      "metadata":{
        
      }
    }
  ],
  "metadata":{
    
  },
  "nbformat":4,
  "nbformat_minor":0
}